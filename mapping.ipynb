{
 "cells": [
  {
   "cell_type": "code",
   "execution_count": 3,
   "id": "4140a4a4",
   "metadata": {},
   "outputs": [
    {
     "data": {
      "text/plain": [
       "[4, 9, 16, 25]"
      ]
     },
     "execution_count": 3,
     "metadata": {},
     "output_type": "execute_result"
    }
   ],
   "source": [
    "numbers = [2, 3, 4, 5]\n",
    "list(map(lambda a: a**2, numbers))"
   ]
  },
  {
   "cell_type": "code",
   "execution_count": 10,
   "id": "82f02994",
   "metadata": {},
   "outputs": [
    {
     "name": "stdout",
     "output_type": "stream",
     "text": [
      "[10, 8, 7, 5, 11]\n"
     ]
    }
   ],
   "source": [
    "sequnence = [10, 2, 8, 7, 5, 4, 3, 11, 0, 1]\n",
    "filtered_result = filter(lambda x: x > 4, sequnence)\n",
    "print(list(filtered_result))"
   ]
  },
  {
   "cell_type": "code",
   "execution_count": 11,
   "id": "6fea8411",
   "metadata": {},
   "outputs": [],
   "source": [
    "def double (x):\n",
    "    return x*2"
   ]
  },
  {
   "cell_type": "code",
   "execution_count": 12,
   "id": "264fd7c6",
   "metadata": {},
   "outputs": [
    {
     "name": "stdout",
     "output_type": "stream",
     "text": [
      "10\n"
     ]
    }
   ],
   "source": [
    "d = lambda x: x*2\n",
    "print(d(5))"
   ]
  },
  {
   "cell_type": "code",
   "execution_count": 15,
   "id": "9e040e26",
   "metadata": {},
   "outputs": [
    {
     "name": "stdout",
     "output_type": "stream",
     "text": [
      "16\n"
     ]
    }
   ],
   "source": [
    "s = lambda x: x**2\n",
    "print(s(4))"
   ]
  },
  {
   "cell_type": "code",
   "execution_count": 16,
   "id": "0957edc1",
   "metadata": {},
   "outputs": [
    {
     "data": {
      "text/plain": [
       "[4, 9, 16, 25]"
      ]
     },
     "execution_count": 16,
     "metadata": {},
     "output_type": "execute_result"
    }
   ],
   "source": [
    "numbers = [2, 3, 4, 5]\n",
    "list(map(lambda b: b**2, numbers))"
   ]
  },
  {
   "cell_type": "code",
   "execution_count": 18,
   "id": "88d0a65b",
   "metadata": {},
   "outputs": [],
   "source": [
    "def root(x,y):\n",
    "    return x**(1/y)\n",
    "y_root = lambda x, y: x**(1/y)"
   ]
  },
  {
   "cell_type": "code",
   "execution_count": null,
   "id": "8675a436",
   "metadata": {},
   "outputs": [],
   "source": []
  }
 ],
 "metadata": {
  "kernelspec": {
   "display_name": "Python 3",
   "language": "python",
   "name": "python3"
  },
  "language_info": {
   "codemirror_mode": {
    "name": "ipython",
    "version": 3
   },
   "file_extension": ".py",
   "mimetype": "text/x-python",
   "name": "python",
   "nbconvert_exporter": "python",
   "pygments_lexer": "ipython3",
   "version": "3.12.4"
  }
 },
 "nbformat": 4,
 "nbformat_minor": 5
}
