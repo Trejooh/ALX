{
 "cells": [
  {
   "cell_type": "code",
   "execution_count": 8,
   "id": "f30dcece",
   "metadata": {},
   "outputs": [],
   "source": [
    "import pandas as pd\n",
    "#pd.DataFrame = \"MD_agric_exam-4313 (1).csv\"\n",
    "df =pd.read_csv(\"MD_agric_exam-4313 (1).csv\")"
   ]
  },
  {
   "cell_type": "code",
   "execution_count": 9,
   "id": "2b6ed8a9",
   "metadata": {},
   "outputs": [
    {
     "data": {
      "text/html": [
       "<div>\n",
       "<style scoped>\n",
       "    .dataframe tbody tr th:only-of-type {\n",
       "        vertical-align: middle;\n",
       "    }\n",
       "\n",
       "    .dataframe tbody tr th {\n",
       "        vertical-align: top;\n",
       "    }\n",
       "\n",
       "    .dataframe thead th {\n",
       "        text-align: right;\n",
       "    }\n",
       "</style>\n",
       "<table border=\"1\" class=\"dataframe\">\n",
       "  <thead>\n",
       "    <tr style=\"text-align: right;\">\n",
       "      <th></th>\n",
       "      <th>Field_ID</th>\n",
       "      <th>Elevation</th>\n",
       "      <th>Rainfall</th>\n",
       "      <th>Min_temperature_C</th>\n",
       "      <th>Max_temperature_C</th>\n",
       "      <th>pH</th>\n",
       "      <th>Pollution_level</th>\n",
       "      <th>Plot_size</th>\n",
       "      <th>Annual_yield</th>\n",
       "      <th>Crop_type</th>\n",
       "    </tr>\n",
       "  </thead>\n",
       "  <tbody>\n",
       "    <tr>\n",
       "      <th>0</th>\n",
       "      <td>1162</td>\n",
       "      <td>494.95615</td>\n",
       "      <td>1507.6</td>\n",
       "      <td>-5.4</td>\n",
       "      <td>31.0</td>\n",
       "      <td>6.859436</td>\n",
       "      <td>0.007034</td>\n",
       "      <td>3.6</td>\n",
       "      <td>1.617421</td>\n",
       "      <td>coffee</td>\n",
       "    </tr>\n",
       "    <tr>\n",
       "      <th>1</th>\n",
       "      <td>5108</td>\n",
       "      <td>663.73390</td>\n",
       "      <td>581.0</td>\n",
       "      <td>-4.7</td>\n",
       "      <td>30.9</td>\n",
       "      <td>5.603219</td>\n",
       "      <td>0.289643</td>\n",
       "      <td>4.2</td>\n",
       "      <td>2.532497</td>\n",
       "      <td>potato</td>\n",
       "    </tr>\n",
       "    <tr>\n",
       "      <th>2</th>\n",
       "      <td>3504</td>\n",
       "      <td>396.87990</td>\n",
       "      <td>1715.1</td>\n",
       "      <td>-6.1</td>\n",
       "      <td>31.7</td>\n",
       "      <td>5.774116</td>\n",
       "      <td>0.000409</td>\n",
       "      <td>2.6</td>\n",
       "      <td>1.262207</td>\n",
       "      <td>banana</td>\n",
       "    </tr>\n",
       "    <tr>\n",
       "      <th>3</th>\n",
       "      <td>5351</td>\n",
       "      <td>594.80370</td>\n",
       "      <td>1748.0</td>\n",
       "      <td>-4.3</td>\n",
       "      <td>33.6</td>\n",
       "      <td>6.477415</td>\n",
       "      <td>0.088777</td>\n",
       "      <td>7.9</td>\n",
       "      <td>4.351564</td>\n",
       "      <td>wheat</td>\n",
       "    </tr>\n",
       "    <tr>\n",
       "      <th>4</th>\n",
       "      <td>905</td>\n",
       "      <td>609.49800</td>\n",
       "      <td>1395.8</td>\n",
       "      <td>-4.5</td>\n",
       "      <td>31.3</td>\n",
       "      <td>5.419586</td>\n",
       "      <td>0.050023</td>\n",
       "      <td>10.8</td>\n",
       "      <td>5.034791</td>\n",
       "      <td>cassava</td>\n",
       "    </tr>\n",
       "  </tbody>\n",
       "</table>\n",
       "</div>"
      ],
      "text/plain": [
       "   Field_ID  Elevation  Rainfall  Min_temperature_C  Max_temperature_C  \\\n",
       "0      1162  494.95615    1507.6               -5.4               31.0   \n",
       "1      5108  663.73390     581.0               -4.7               30.9   \n",
       "2      3504  396.87990    1715.1               -6.1               31.7   \n",
       "3      5351  594.80370    1748.0               -4.3               33.6   \n",
       "4       905  609.49800    1395.8               -4.5               31.3   \n",
       "\n",
       "         pH  Pollution_level  Plot_size  Annual_yield Crop_type  \n",
       "0  6.859436         0.007034        3.6      1.617421    coffee  \n",
       "1  5.603219         0.289643        4.2      2.532497    potato  \n",
       "2  5.774116         0.000409        2.6      1.262207    banana  \n",
       "3  6.477415         0.088777        7.9      4.351564     wheat  \n",
       "4  5.419586         0.050023       10.8      5.034791   cassava  "
      ]
     },
     "execution_count": 9,
     "metadata": {},
     "output_type": "execute_result"
    }
   ],
   "source": [
    "df.head()"
   ]
  },
  {
   "cell_type": "code",
   "execution_count": 10,
   "id": "fac9844c",
   "metadata": {},
   "outputs": [
    {
     "data": {
      "text/html": [
       "<div>\n",
       "<style scoped>\n",
       "    .dataframe tbody tr th:only-of-type {\n",
       "        vertical-align: middle;\n",
       "    }\n",
       "\n",
       "    .dataframe tbody tr th {\n",
       "        vertical-align: top;\n",
       "    }\n",
       "\n",
       "    .dataframe thead th {\n",
       "        text-align: right;\n",
       "    }\n",
       "</style>\n",
       "<table border=\"1\" class=\"dataframe\">\n",
       "  <thead>\n",
       "    <tr style=\"text-align: right;\">\n",
       "      <th></th>\n",
       "      <th>Field_ID</th>\n",
       "      <th>Elevation</th>\n",
       "      <th>Rainfall</th>\n",
       "      <th>Min_temperature_C</th>\n",
       "      <th>Max_temperature_C</th>\n",
       "      <th>pH</th>\n",
       "      <th>Pollution_level</th>\n",
       "      <th>Plot_size</th>\n",
       "      <th>Annual_yield</th>\n",
       "      <th>Crop_type</th>\n",
       "    </tr>\n",
       "  </thead>\n",
       "  <tbody>\n",
       "    <tr>\n",
       "      <th>0</th>\n",
       "      <td>1162</td>\n",
       "      <td>494.95615</td>\n",
       "      <td>1507.6</td>\n",
       "      <td>-5.4</td>\n",
       "      <td>31.0</td>\n",
       "      <td>6.859436</td>\n",
       "      <td>0.007034</td>\n",
       "      <td>3.6</td>\n",
       "      <td>1.617421</td>\n",
       "      <td>coffee</td>\n",
       "    </tr>\n",
       "    <tr>\n",
       "      <th>1</th>\n",
       "      <td>5108</td>\n",
       "      <td>663.73390</td>\n",
       "      <td>581.0</td>\n",
       "      <td>-4.7</td>\n",
       "      <td>30.9</td>\n",
       "      <td>5.603219</td>\n",
       "      <td>0.289643</td>\n",
       "      <td>4.2</td>\n",
       "      <td>2.532497</td>\n",
       "      <td>potato</td>\n",
       "    </tr>\n",
       "    <tr>\n",
       "      <th>2</th>\n",
       "      <td>3504</td>\n",
       "      <td>396.87990</td>\n",
       "      <td>1715.1</td>\n",
       "      <td>-6.1</td>\n",
       "      <td>31.7</td>\n",
       "      <td>5.774116</td>\n",
       "      <td>0.000409</td>\n",
       "      <td>2.6</td>\n",
       "      <td>1.262207</td>\n",
       "      <td>banana</td>\n",
       "    </tr>\n",
       "    <tr>\n",
       "      <th>3</th>\n",
       "      <td>5351</td>\n",
       "      <td>594.80370</td>\n",
       "      <td>1748.0</td>\n",
       "      <td>-4.3</td>\n",
       "      <td>33.6</td>\n",
       "      <td>6.477415</td>\n",
       "      <td>0.088777</td>\n",
       "      <td>7.9</td>\n",
       "      <td>4.351564</td>\n",
       "      <td>wheat</td>\n",
       "    </tr>\n",
       "    <tr>\n",
       "      <th>4</th>\n",
       "      <td>905</td>\n",
       "      <td>609.49800</td>\n",
       "      <td>1395.8</td>\n",
       "      <td>-4.5</td>\n",
       "      <td>31.3</td>\n",
       "      <td>5.419586</td>\n",
       "      <td>0.050023</td>\n",
       "      <td>10.8</td>\n",
       "      <td>5.034791</td>\n",
       "      <td>cassava</td>\n",
       "    </tr>\n",
       "    <tr>\n",
       "      <th>...</th>\n",
       "      <td>...</td>\n",
       "      <td>...</td>\n",
       "      <td>...</td>\n",
       "      <td>...</td>\n",
       "      <td>...</td>\n",
       "      <td>...</td>\n",
       "      <td>...</td>\n",
       "      <td>...</td>\n",
       "      <td>...</td>\n",
       "      <td>...</td>\n",
       "    </tr>\n",
       "    <tr>\n",
       "      <th>995</th>\n",
       "      <td>2202</td>\n",
       "      <td>572.95935</td>\n",
       "      <td>625.6</td>\n",
       "      <td>-5.5</td>\n",
       "      <td>31.0</td>\n",
       "      <td>5.258964</td>\n",
       "      <td>0.086330</td>\n",
       "      <td>1.2</td>\n",
       "      <td>0.750675</td>\n",
       "      <td>wheat</td>\n",
       "    </tr>\n",
       "    <tr>\n",
       "      <th>996</th>\n",
       "      <td>2531</td>\n",
       "      <td>552.80945</td>\n",
       "      <td>398.1</td>\n",
       "      <td>-5.9</td>\n",
       "      <td>33.4</td>\n",
       "      <td>4.607136</td>\n",
       "      <td>0.130178</td>\n",
       "      <td>0.8</td>\n",
       "      <td>0.449790</td>\n",
       "      <td>wheat</td>\n",
       "    </tr>\n",
       "    <tr>\n",
       "      <th>997</th>\n",
       "      <td>1040</td>\n",
       "      <td>678.22504</td>\n",
       "      <td>564.4</td>\n",
       "      <td>-4.6</td>\n",
       "      <td>31.7</td>\n",
       "      <td>5.567556</td>\n",
       "      <td>0.448149</td>\n",
       "      <td>1.2</td>\n",
       "      <td>0.492988</td>\n",
       "      <td>maize</td>\n",
       "    </tr>\n",
       "    <tr>\n",
       "      <th>998</th>\n",
       "      <td>58</td>\n",
       "      <td>792.65370</td>\n",
       "      <td>928.5</td>\n",
       "      <td>-3.3</td>\n",
       "      <td>31.2</td>\n",
       "      <td>5.102048</td>\n",
       "      <td>0.387350</td>\n",
       "      <td>1.1</td>\n",
       "      <td>0.597557</td>\n",
       "      <td>potato</td>\n",
       "    </tr>\n",
       "    <tr>\n",
       "      <th>999</th>\n",
       "      <td>3334</td>\n",
       "      <td>747.69850</td>\n",
       "      <td>981.5</td>\n",
       "      <td>-3.7</td>\n",
       "      <td>31.0</td>\n",
       "      <td>6.715882</td>\n",
       "      <td>0.541706</td>\n",
       "      <td>11.1</td>\n",
       "      <td>2.867815</td>\n",
       "      <td>coffee</td>\n",
       "    </tr>\n",
       "  </tbody>\n",
       "</table>\n",
       "<p>1000 rows × 10 columns</p>\n",
       "</div>"
      ],
      "text/plain": [
       "     Field_ID  Elevation  Rainfall  Min_temperature_C  Max_temperature_C  \\\n",
       "0        1162  494.95615    1507.6               -5.4               31.0   \n",
       "1        5108  663.73390     581.0               -4.7               30.9   \n",
       "2        3504  396.87990    1715.1               -6.1               31.7   \n",
       "3        5351  594.80370    1748.0               -4.3               33.6   \n",
       "4         905  609.49800    1395.8               -4.5               31.3   \n",
       "..        ...        ...       ...                ...                ...   \n",
       "995      2202  572.95935     625.6               -5.5               31.0   \n",
       "996      2531  552.80945     398.1               -5.9               33.4   \n",
       "997      1040  678.22504     564.4               -4.6               31.7   \n",
       "998        58  792.65370     928.5               -3.3               31.2   \n",
       "999      3334  747.69850     981.5               -3.7               31.0   \n",
       "\n",
       "           pH  Pollution_level  Plot_size  Annual_yield Crop_type  \n",
       "0    6.859436         0.007034        3.6      1.617421    coffee  \n",
       "1    5.603219         0.289643        4.2      2.532497    potato  \n",
       "2    5.774116         0.000409        2.6      1.262207    banana  \n",
       "3    6.477415         0.088777        7.9      4.351564     wheat  \n",
       "4    5.419586         0.050023       10.8      5.034791   cassava  \n",
       "..        ...              ...        ...           ...       ...  \n",
       "995  5.258964         0.086330        1.2      0.750675     wheat  \n",
       "996  4.607136         0.130178        0.8      0.449790     wheat  \n",
       "997  5.567556         0.448149        1.2      0.492988     maize  \n",
       "998  5.102048         0.387350        1.1      0.597557    potato  \n",
       "999  6.715882         0.541706       11.1      2.867815    coffee  \n",
       "\n",
       "[1000 rows x 10 columns]"
      ]
     },
     "execution_count": 10,
     "metadata": {},
     "output_type": "execute_result"
    }
   ],
   "source": [
    "df"
   ]
  },
  {
   "cell_type": "code",
   "execution_count": 13,
   "id": "26ceb435",
   "metadata": {},
   "outputs": [
    {
     "name": "stdout",
     "output_type": "stream",
     "text": [
      "Number of unique crop types: 8\n"
     ]
    }
   ],
   "source": [
    "import pandas as pd\n",
    "data = pd.read_csv(\"MD_agric_exam-4313 (1).csv\")\n",
    "num_unique_crop = data['Crop_type'].nunique()\n",
    "print(\"Number of unique crop types:\", num_unique_crop)"
   ]
  },
  {
   "cell_type": "code",
   "execution_count": null,
   "id": "b83ac88d",
   "metadata": {},
   "outputs": [
    {
     "name": "stdout",
     "output_type": "stream",
     "text": [
      "Index(['Field_ID', 'Elevation', 'Rainfall', 'Min_temperature_C',\n",
      "       'Max_temperature_C', 'pH', 'Pollution_level', 'Plot_size',\n",
      "       'Annual_yield', 'Crop_type'],\n",
      "      dtype='object')\n"
     ]
    }
   ],
   "source": [
    "import pandas as pd\n",
    "data = pd.read_csv(\"MD_agric_exam-4313 (1).csv\")\n",
    "print(data.columns)"
   ]
  },
  {
   "cell_type": "code",
   "execution_count": null,
   "id": "aabad443",
   "metadata": {},
   "outputs": [
    {
     "name": "stdout",
     "output_type": "stream",
     "text": [
      "Number of unique crop types: 8\n"
     ]
    }
   ],
   "source": [
    "import pandas as pd\n",
    "data = pd.read_csv(\"MD_agric_exam-4313 (1).csv\")\n",
    "num_unique_crops = data['Crop_type'].nunique()\n",
    "print(\"Number of unique crop types:\", num_unique_crops)"
   ]
  },
  {
   "cell_type": "code",
   "execution_count": null,
   "id": "d690dd91",
   "metadata": {},
   "outputs": [
    {
     "name": "stdout",
     "output_type": "stream",
     "text": [
      "Maximum Annual Yield for wheat: 8.99\n"
     ]
    }
   ],
   "source": [
    "import pandas as pd\n",
    "data = pd.read_csv(\"MD_agric_exam-4313 (1).csv\")\n",
    "max_yield_wheat = data.loc[data['Crop_type'].str.lower() == 'wheat', 'Annual_yield'].max()\n",
    "print(\"Maximum Annual Yield for wheat:\", round(max_yield_wheat, 2))"
   ]
  },
  {
   "cell_type": "code",
   "execution_count": null,
   "id": "f59ee58b",
   "metadata": {},
   "outputs": [
    {
     "name": "stdout",
     "output_type": "stream",
     "text": [
      "Index(['Field_ID', 'Elevation', 'Rainfall', 'Min_temperature_C',\n",
      "       'Max_temperature_C', 'pH', 'Pollution_level', 'Plot_size',\n",
      "       'Annual_yield', 'Crop_type'],\n",
      "      dtype='object')\n"
     ]
    }
   ],
   "source": [
    "print(data.columns)"
   ]
  },
  {
   "cell_type": "code",
   "execution_count": null,
   "id": "23aea689",
   "metadata": {},
   "outputs": [
    {
     "name": "stdout",
     "output_type": "stream",
     "text": [
      "Total rainfall for crop types with avg pollution > 0.2: 941959.7\n"
     ]
    }
   ],
   "source": [
    "avg_pollution = data.groupby('Crop_type')['Pollution_level'].mean().reset_index()\n",
    "high_pollution_crops = avg_pollution[avg_pollution['Pollution_level'] > 0.2]['Crop_type']\n",
    "total_rainfall = data[data['Crop_type'].isin(high_pollution_crops)]['Rainfall'].sum()\n",
    "print(\"Total rainfall for crop types with avg pollution > 0.2:\", round(total_rainfall, 2))"
   ]
  },
  {
   "cell_type": "code",
   "execution_count": null,
   "id": "d7d8509e",
   "metadata": {},
   "outputs": [
    {
     "name": "stdout",
     "output_type": "stream",
     "text": [
      "Field 1458: 40.7\n",
      "Field 1895: 35.7\n",
      "Field 5443: 33.4\n"
     ]
    }
   ],
   "source": [
    "def temperature_range(field_id):\n",
    "    field_data = data[data['Field_ID'] == field_id]\n",
    "    if field_data.empty:\n",
    "        return f\"Field_ID {field_id} not found.\"\n",
    "    temp_range = field_data['Max_temperature_C'].iloc[0] - field_data['Min_temperature_C'].iloc[0]\n",
    "    return round(temp_range, 2)\n",
    "print(\"Field 1458:\", temperature_range(1458))\n",
    "print(\"Field 1895:\", temperature_range(1895))\n",
    "print(\"Field 5443:\", temperature_range(5443))"
   ]
  },
  {
   "cell_type": "code",
   "execution_count": null,
   "id": "0339fe5d",
   "metadata": {},
   "outputs": [
    {
     "name": "stdout",
     "output_type": "stream",
     "text": [
      "Index(['Field_ID', 'Elevation', 'Rainfall', 'Min_temperature_C',\n",
      "       'Max_temperature_C', 'pH', 'Pollution_level', 'Plot_size',\n",
      "       'Annual_yield', 'Crop_type'],\n",
      "      dtype='object')\n"
     ]
    }
   ],
   "source": [
    "print(data.columns)"
   ]
  },
  {
   "cell_type": "code",
   "execution_count": null,
   "id": "ff5af151",
   "metadata": {},
   "outputs": [
    {
     "name": "stdout",
     "output_type": "stream",
     "text": [
      "Total plot size for plots where pH < 5.5: 1731.9\n"
     ]
    }
   ],
   "source": [
    "total_plot_size = data.loc[data['pH'] < 5.5, 'Plot_size'].sum()\n",
    "print(\"Total plot size for plots where pH < 5.5:\", round(total_plot_size, 2))"
   ]
  },
  {
   "cell_type": "code",
   "execution_count": null,
   "id": "e9411d42",
   "metadata": {},
   "outputs": [
    {
     "name": "stdout",
     "output_type": "stream",
     "text": [
      "Number of rows in the filtered dataset: 319\n"
     ]
    }
   ],
   "source": [
    "filtered_data = data[(data['Min_temperature_C'] < -5) & (data['Max_temperature_C'] > 30)]\n",
    "num_rows = len(filtered_data)\n",
    "print(\"Number of rows in the filtered dataset:\", num_rows)"
   ]
  },
  {
   "cell_type": "code",
   "execution_count": null,
   "id": "1ad21c13",
   "metadata": {},
   "outputs": [
    {
     "name": "stdout",
     "output_type": "stream",
     "text": [
      "Standard deviation of rainfall (plots > median size): 469.62\n"
     ]
    }
   ],
   "source": [
    "import pandas as pd \n",
    "import numpy as np\n",
    "data = pd.read_csv(\"MD_agric_exam-4313 (1).csv\")\n",
    "median_plot_size = data['Plot_size'].median()\n",
    "larger_plots = data[data['Plot_size'] > median_plot_size]\n",
    "std_rainfall =  np.std(larger_plots['Rainfall'])\n",
    "print(\"Standard deviation of rainfall (plots > median size):\", round(std_rainfall, 2))"
   ]
  },
  {
   "cell_type": "code",
   "execution_count": null,
   "id": "bbd9a9a2",
   "metadata": {},
   "outputs": [
    {
     "name": "stdout",
     "output_type": "stream",
     "text": [
      "Result: 30ice\n"
     ]
    }
   ],
   "source": [
    "most_common_temp = data['Max_temperature_C'].mode()[0]\n",
    "least_common_crop = data['Crop_type'].value_counts().index[-1]\n",
    "part1 = str(int(most_common_temp))[:3]\n",
    "part2 = least_common_crop[-3:].lower()\n",
    "result = part1 + part2\n",
    "print(\"Result:\", result)"
   ]
  },
  {
   "cell_type": "code",
   "execution_count": null,
   "id": "c20a1bde",
   "metadata": {},
   "outputs": [
    {
     "data": {
      "image/png": "[encoded data removed]",
      "text/plain": [
       "<Figure size 640x480 with 1 Axes>"
      ]
     },
     "metadata": {},
     "output_type": "display_data"
    }
   ],
   "source": [
    "import pandas as pd\n",
    "import seaborn as sns\n",
    "import matplotlib.pyplot as plt\n",
    "data = pd.read_csv(\"MD_agric_exam-4313 (1).csv\")\n",
    "def categorize_elevation(elev):\n",
    "    if elev < 300:\n",
    "        return \"Low\"\n",
    "    elif elev <= 600:\n",
    "        return \"Medium\"\n",
    "    else:\n",
    "        return \"High\"\n",
    "    data['Elevation_category'] = data['Elevation'].apply(categorize_elevation)\n",
    "    plt.figure(figsize=(8, 6))\n",
    "    sns.violinplot(x='Elevation_Category', y='Annual_Yield', data=data, palette='Set2')\n",
    "plt.title('Distribution of Annual Yield Across Elevation Ranges')\n",
    "plt.xlabel('Elevation Category')\n",
    "plt.ylabel('Annual Yield')\n",
    "plt.show()\n"
   ]
  },
  {
   "cell_type": "code",
   "execution_count": null,
   "id": "527a82c8",
   "metadata": {},
   "outputs": [
    {
     "name": "stdout",
     "output_type": "stream",
     "text": [
      "Total sum of crop type lengths: 42\n"
     ]
    }
   ],
   "source": [
    "unique_crops = data['Crop_type'].unique()\n",
    "def sum_crop_lengths(crops):\n",
    "    if len(crops) == 0:\n",
    "        return 0\n",
    "    return len(crops[0]) + sum_crop_lengths(crops[1:])\n",
    "total_sum = sum_crop_lengths(list(unique_crops))\n",
    "print(\"Total sum of crop type lengths:\", total_sum)"
   ]
  },
  {
   "cell_type": "code",
   "execution_count": null,
   "id": "81fbd6e6",
   "metadata": {},
   "outputs": [
    {
     "name": "stdout",
     "output_type": "stream",
     "text": [
      "P-value: 0.598\n"
     ]
    }
   ],
   "source": [
    "import pandas as pd\n",
    "from scipy import stats\n",
    "data = pd.read_csv(\"MD_agric_exam-4313 (1).csv\")\n",
    "coffee = data.loc[data['Crop_type'].str.lower() == 'coffee', 'Annual_yield']\n",
    "banana = data.loc[data['Crop_type'].str.lower() == 'banana', 'Annual_yield']\n",
    "t_stat, p_value = stats.ttest_ind(coffee, banana, equal_var=False, nan_policy='omit')\n",
    "print(\"P-value:\", round(p_value, 3))"
   ]
  }
 ],
 "metadata": {
  "kernelspec": {
   "display_name": "base",
   "language": "python",
   "name": "python3"
  },
  "language_info": {
   "codemirror_mode": {
    "name": "ipython",
    "version": 3
   },
   "file_extension": ".py",
   "mimetype": "text/x-python",
   "name": "python",
   "nbconvert_exporter": "python",
   "pygments_lexer": "ipython3",
   "version": "3.12.7"
  }
 },
 "nbformat": 4,
 "nbformat_minor": 5
}
