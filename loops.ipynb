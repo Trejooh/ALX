{
 "cells": [
  {
   "cell_type": "code",
   "execution_count": 2,
   "id": "e44957d9",
   "metadata": {},
   "outputs": [
    {
     "name": "stdout",
     "output_type": "stream",
     "text": [
      "rate = 150\n",
      "rate = 145\n",
      "rate = 140\n",
      "rate = 135\n",
      "rate = 130\n"
     ]
    }
   ],
   "source": [
    "deforestation_rates = [150, 145, 140, 135, 130]\n",
    "deforestation_years = [2010, 2011, 2012, 2013, 2014]\n",
    "for rate in deforestation_rates:\n",
    "    print(f\"rate = {rate}\")"
   ]
  },
  {
   "cell_type": "code",
   "execution_count": 8,
   "id": "1c39cf9d",
   "metadata": {},
   "outputs": [
    {
     "name": "stdout",
     "output_type": "stream",
     "text": [
      "dolphins: 12 sightings\n",
      "whales: 3 sightings\n",
      "sea turtles: 7 sightings\n"
     ]
    }
   ],
   "source": [
    "marine_species_count = {\n",
    "    'dolphins': 12,\n",
    "    'whales' : 3,\n",
    "    'sea turtles' : 7\n",
    "}\n",
    "for species in marine_species_count:\n",
    "    print(f\"{species}: {marine_species_count[species]} sightings\")"
   ]
  },
  {
   "cell_type": "code",
   "execution_count": null,
   "id": "56ae214a",
   "metadata": {},
   "outputs": [],
   "source": []
  }
 ],
 "metadata": {
  "kernelspec": {
   "display_name": "base",
   "language": "python",
   "name": "python3"
  },
  "language_info": {
   "codemirror_mode": {
    "name": "ipython",
    "version": 3
   },
   "file_extension": ".py",
   "mimetype": "text/x-python",
   "name": "python",
   "nbconvert_exporter": "python",
   "pygments_lexer": "ipython3",
   "version": "3.12.7"
  }
 },
 "nbformat": 4,
 "nbformat_minor": 5
}
